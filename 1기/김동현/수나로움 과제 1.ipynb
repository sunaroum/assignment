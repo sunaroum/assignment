{
  "nbformat": 4,
  "nbformat_minor": 0,
  "metadata": {
    "colab": {
      "provenance": []
    },
    "kernelspec": {
      "name": "python3",
      "display_name": "Python 3"
    },
    "language_info": {
      "name": "python"
    }
  },
  "cells": [
    {
      "cell_type": "code",
      "execution_count": 2,
      "metadata": {
        "colab": {
          "base_uri": "https://localhost:8080/"
        },
        "id": "ZGWSQIWAQPfz",
        "outputId": "1e8d758b-9b56-443d-e754-e32a48de0003"
      },
      "outputs": [
        {
          "output_type": "stream",
          "name": "stdout",
          "text": [
            "   Math  Chemistry  Physics\n",
            "0    70         45       60\n",
            "1    30         25       95\n",
            "2    23         53      100\n"
          ]
        }
      ],
      "source": [
        "#과제 1-1\n",
        "\n",
        "import numpy as np\n",
        "import pandas as pd\n",
        "\n",
        "score = np.array([[70, 45, 60], [30, 25, 95], [23, 53, 100]])\n",
        "\n",
        "df = pd.DataFrame(score, columns=['Math', 'Chemistry', 'Physics'])\n",
        "\n",
        "print(df)"
      ]
    },
    {
      "cell_type": "code",
      "source": [
        "#과제 1-2\n",
        "\n",
        "import numpy as np\n",
        "import pandas as pd\n",
        "\n",
        "data = {\n",
        "'A' : np.random.randint(1, 10, 5),\n",
        "'B' : np.random.randint(1, 10, 5)\n",
        "}\n",
        "\n",
        "df = pd.DataFrame(data)\n",
        "\n",
        "df['C'] = df['A'] + df['B']\n",
        "print(df)\n",
        "\n",
        "df['D'] = df.mean(axis=1)\n",
        "print(df)"
      ],
      "metadata": {
        "colab": {
          "base_uri": "https://localhost:8080/"
        },
        "id": "PFn84VlVRkEP",
        "outputId": "82ac8146-375f-4fcf-e16d-e0ff7570db5a"
      },
      "execution_count": 3,
      "outputs": [
        {
          "output_type": "stream",
          "name": "stdout",
          "text": [
            "   A  B   C\n",
            "0  2  6   8\n",
            "1  5  1   6\n",
            "2  4  9  13\n",
            "3  7  4  11\n",
            "4  2  4   6\n",
            "   A  B   C         D\n",
            "0  2  6   8  5.333333\n",
            "1  5  1   6  4.000000\n",
            "2  4  9  13  8.666667\n",
            "3  7  4  11  7.333333\n",
            "4  2  4   6  4.000000\n"
          ]
        }
      ]
    }
  ]
}