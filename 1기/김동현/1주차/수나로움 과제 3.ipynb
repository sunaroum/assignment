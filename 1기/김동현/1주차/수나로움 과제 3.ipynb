{
  "nbformat": 4,
  "nbformat_minor": 0,
  "metadata": {
    "colab": {
      "provenance": []
    },
    "kernelspec": {
      "name": "python3",
      "display_name": "Python 3"
    },
    "language_info": {
      "name": "python"
    }
  },
  "cells": [
    {
      "cell_type": "code",
      "execution_count": 21,
      "metadata": {
        "colab": {
          "base_uri": "https://localhost:8080/"
        },
        "id": "ZGWSQIWAQPfz",
        "outputId": "14a9befb-43e5-406d-c9a1-141c3488b8ed"
      },
      "outputs": [
        {
          "output_type": "stream",
          "name": "stdout",
          "text": [
            "tensor([[ 8., 10.],\n",
            "        [12., 14.],\n",
            "        [16., 18.]])\n",
            " \n",
            "tensor([[-6., -6.],\n",
            "        [-6., -6.],\n",
            "        [-6., -6.]])\n",
            " \n",
            "tensor([[175., 190., 205., 220.],\n",
            "        [400., 440., 480., 520.]])\n",
            " \n",
            "you can't use this operator because those two operands can't be mutiplied.\n",
            " \n",
            "Wrong operator.\n"
          ]
        }
      ],
      "source": [
        "#과제 3-1 : 행렬 삼칙연산(덧셈, 뺄셈, 곱셈) 계산기\n",
        "\n",
        "import torch\n",
        "\n",
        "def matrix_calculator(op, mat1, mat2) :\n",
        "  # 덧셈 = 1, 뺄셈 = 2, 행렬곱 = 3\n",
        "\n",
        "  if (mat1.size(dim=1) != mat2.size(dim=0)) and (op == 3) :\n",
        "    print(\"you can't use this operator because those two operands can't be mutiplied.\")\n",
        "\n",
        "  elif op == 1 :\n",
        "    result = mat1 + mat2\n",
        "    print(result)\n",
        "\n",
        "  elif op == 2 :\n",
        "    result = mat1 - mat2\n",
        "    print(result)\n",
        "\n",
        "  elif op == 3 :\n",
        "    result = torch.matmul(mat1, mat2)\n",
        "    print(result)\n",
        "\n",
        "  else :\n",
        "    print(\"Wrong operator.\")\n",
        "\n",
        "matA = torch.Tensor([[1, 2, 3, 4, 5], [6, 7, 8, 9, 10]])\n",
        "# (2, 5)\n",
        "matB = torch.Tensor([[1, 2, 3, 4], [5, 6, 7, 8], [9, 10, 11, 12], [13, 14, 15, 16], [17, 18, 19, 20]])\n",
        "# (5, 4)\n",
        "matC = torch.Tensor([[1, 2], [3, 4], [5, 6]])\n",
        "# (3, 2)\n",
        "matD = torch.Tensor([[7, 8], [9, 10], [11, 12]])\n",
        "# (3, 2)\n",
        "\n",
        "matrix_calculator(1, matC, matD)\n",
        "print(\" \")\n",
        "matrix_calculator(2, matC, matD)\n",
        "print(\" \")\n",
        "matrix_calculator(3, matA, matB)\n",
        "print(\" \")\n",
        "matrix_calculator(3, matA, matC)\n",
        "print(\" \")\n",
        "matrix_calculator(4, matA, matD)"
      ]
    },
    {
      "cell_type": "code",
      "source": [
        "#과제 3-2 : 정사각행렬을 가지고 놀아보기\n",
        "# (1) 정사각행렬을 만들기\n",
        "\n",
        "import torch\n",
        "\n",
        "mat = torch.arange(16).reshape(4, 4)\n",
        "\n",
        "mat"
      ],
      "metadata": {
        "colab": {
          "base_uri": "https://localhost:8080/"
        },
        "id": "PFn84VlVRkEP",
        "outputId": "5d07250d-023b-4e16-c90f-f2fdeb5a8fd5"
      },
      "execution_count": 32,
      "outputs": [
        {
          "output_type": "execute_result",
          "data": {
            "text/plain": [
              "tensor([[ 0,  1,  2,  3],\n",
              "        [ 4,  5,  6,  7],\n",
              "        [ 8,  9, 10, 11],\n",
              "        [12, 13, 14, 15]])"
            ]
          },
          "metadata": {},
          "execution_count": 32
        }
      ]
    },
    {
      "cell_type": "code",
      "source": [
        "# (2-1) 90도 돌리기\n",
        "\n",
        "'''\n",
        "되어야 하는 상태 :\n",
        "[12, 8, 4, 0],\n",
        "[13, 9, 5, 1],\n",
        "[14, 10, 6, 2],\n",
        "[15, 11, 7, 3]\n",
        "\n",
        "'''\n",
        "\n",
        "mat90 = torch.flip(mat.T, [1])\n",
        "\n",
        "mat90"
      ],
      "metadata": {
        "colab": {
          "base_uri": "https://localhost:8080/"
        },
        "id": "S6PFORyyvNzl",
        "outputId": "f36d6def-9453-4d6c-940b-39a8f4b8c621"
      },
      "execution_count": 51,
      "outputs": [
        {
          "output_type": "execute_result",
          "data": {
            "text/plain": [
              "tensor([[12,  8,  4,  0],\n",
              "        [13,  9,  5,  1],\n",
              "        [14, 10,  6,  2],\n",
              "        [15, 11,  7,  3]])"
            ]
          },
          "metadata": {},
          "execution_count": 51
        }
      ]
    },
    {
      "cell_type": "code",
      "source": [
        "# (2-2) 180도 돌리기\n",
        "\n",
        "'''\n",
        "되어야 하는 상태 :\n",
        "[15,  14, 13,  12],\n",
        "[11,  10,  9,   8],\n",
        "[7,    6,  5,   4],\n",
        "[3,    2,  1,   0]\n",
        "\n",
        "'''\n",
        "\n",
        "mat180 = torch.flip(mat, (1, 0))\n",
        "\n",
        "mat180"
      ],
      "metadata": {
        "colab": {
          "base_uri": "https://localhost:8080/"
        },
        "id": "daqX9XkswD_k",
        "outputId": "44403ebd-6c37-4150-b62c-808a94eb1a64"
      },
      "execution_count": 52,
      "outputs": [
        {
          "output_type": "execute_result",
          "data": {
            "text/plain": [
              "tensor([[15, 14, 13, 12],\n",
              "        [11, 10,  9,  8],\n",
              "        [ 7,  6,  5,  4],\n",
              "        [ 3,  2,  1,  0]])"
            ]
          },
          "metadata": {},
          "execution_count": 52
        }
      ]
    },
    {
      "cell_type": "code",
      "source": [
        "# (2-3) 270도 돌리기\n",
        "\n",
        "'''\n",
        "되어야 하는 상태 :\n",
        "[3,  7, 11, 15],\n",
        "[2,  6, 10, 14],\n",
        "[1,  5,  9, 13],\n",
        "[0,  4,  8, 12]\n",
        "\n",
        "'''\n",
        "mat270 = torch.flip(mat, [1]).T\n",
        "\n",
        "mat270"
      ],
      "metadata": {
        "colab": {
          "base_uri": "https://localhost:8080/"
        },
        "id": "EXjqgLW9wGyr",
        "outputId": "aa72692f-5ed6-4e68-d912-8161d0868de6"
      },
      "execution_count": 53,
      "outputs": [
        {
          "output_type": "execute_result",
          "data": {
            "text/plain": [
              "tensor([[ 3,  7, 11, 15],\n",
              "        [ 2,  6, 10, 14],\n",
              "        [ 1,  5,  9, 13],\n",
              "        [ 0,  4,  8, 12]])"
            ]
          },
          "metadata": {},
          "execution_count": 53
        }
      ]
    },
    {
      "cell_type": "code",
      "source": [
        "# (3) 뒤집기\n",
        "\n",
        "'''\n",
        "되어야 하는 상태 :\n",
        "[ 3,  2,  1,  0],\n",
        "[ 7,  6,  5,  4],\n",
        "[11, 10,  9,  8],\n",
        "[15, 14, 13, 12]\n",
        "\n",
        "'''\n",
        "\n",
        "mat_flip = torch.flip(mat, [1])\n",
        "\n",
        "mat_flip"
      ],
      "metadata": {
        "colab": {
          "base_uri": "https://localhost:8080/"
        },
        "id": "G8zX8MhXwHUJ",
        "outputId": "d49da19e-37d9-44d3-e4ef-4a52c37d197e"
      },
      "execution_count": 55,
      "outputs": [
        {
          "output_type": "execute_result",
          "data": {
            "text/plain": [
              "tensor([[ 3,  2,  1,  0],\n",
              "        [ 7,  6,  5,  4],\n",
              "        [11, 10,  9,  8],\n",
              "        [15, 14, 13, 12]])"
            ]
          },
          "metadata": {},
          "execution_count": 55
        }
      ]
    }
  ]
}